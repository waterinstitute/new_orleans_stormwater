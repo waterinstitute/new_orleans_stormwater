{
 "cells": [
  {
   "cell_type": "code",
   "execution_count": 117,
   "metadata": {},
   "outputs": [],
   "source": [
    "import pandas as pd\n",
    "import matplotlib.pyplot as plt\n",
    "import numpy as np\n",
    "import prim\n",
    "import math\n",
    "from sklearn.model_selection import train_test_split\n",
    "from sklearn.linear_model import LogisticRegression\n",
    "from sklearn.metrics import accuracy_score\n",
    "from sklearn.metrics import classification_report\n",
    "from sklearn import tree # for decision tree models\n",
    "\n",
    "import plotly.express as px  # for data visualization\n",
    "import plotly.graph_objects as go # for data visualization\n",
    "#import graphviz # for plotting decision tree graphs"
   ]
  },
  {
   "cell_type": "code",
   "execution_count": 118,
   "metadata": {},
   "outputs": [],
   "source": [
    "hour24_neighbor =  pd.read_csv (\"data/NO_storm_damage_by_neighborhood_long_24_hours.csv\")\n",
    "neighbor_structure_value = pd.read_csv (\"data/No_value_by_neighborhood_long.csv\")\n",
    "\n",
    "neighborhood = 'MILNEBURG'\n",
    "\n",
    "hour24_neighbor = hour24_neighbor.loc[(hour24_neighbor['recurrence'] == 'EAD') & (hour24_neighbor['threshold'] == '>12in') & (hour24_neighbor['NB'] == neighborhood)]\n",
    "hour24_neighbor = hour24_neighbor.drop([\"recurrence\", \"threshold\"], axis = 1)\n",
    "hour24_neighbor = hour24_neighbor.groupby([\"Scenario\"]).damage.sum().reset_index()\n",
    "\n",
    "neighbor_structure_value = neighbor_structure_value.loc[(neighbor_structure_value['NB'] == neighborhood)]\n",
    "neighbor_structure_value = neighbor_structure_value.groupby([\"NB\"]).value.sum().reset_index()\n",
    "\n",
    "\n",
    "neighbor_structure_value = neighbor_structure_value[neighbor_structure_value.value != 0]\n",
    "neighbor_structure_value_sum=neighbor_structure_value.iloc[0]['value']\n"
   ]
  },
  {
   "cell_type": "code",
   "execution_count": 119,
   "metadata": {},
   "outputs": [],
   "source": [
    "results = hour24_neighbor\n",
    "\n",
    "\n",
    "results['damage_percent'] = (results ['damage']/neighbor_structure_value_sum)*100\n",
    "\n",
    "results['vulnerable'] = np.where(results['damage_percent']>2, True, False)"
   ]
  },
  {
   "cell_type": "code",
   "execution_count": 120,
   "metadata": {},
   "outputs": [
    {
     "name": "stdout",
     "output_type": "stream",
     "text": [
      "   Kunkel 2045 4.5  Kunkel 2075 4.5  Kunkel 2075 8.5  Rough_100  Rough_25  \\\n",
      "0                0                0                0          0         0   \n",
      "1                1                0                0          0         0   \n",
      "2                0                1                0          0         0   \n",
      "3                0                1                0          0         0   \n",
      "4                0                0                1          0         0   \n",
      "\n",
      "   Rough_50  Rough_75  DPS_1_2_0.0  DPS_1_2_0.5  DPS_All_Other_0.0  \\\n",
      "0         0         0            0            0                  0   \n",
      "1         0         0            0            0                  0   \n",
      "2         0         0            0            0                  0   \n",
      "3         0         0            0            0                  0   \n",
      "4         0         0            0            0                  0   \n",
      "\n",
      "   DPS_All_Other_0.5  \n",
      "0                  0  \n",
      "1                  0  \n",
      "2                  0  \n",
      "3                  0  \n",
      "4                  0  \n"
     ]
    }
   ],
   "source": [
    "scenario_df= pd.read_csv (\"data/NO_Storm_Water_Design_Compact.csv\")\n",
    "\n",
    "\n",
    "df = results\n",
    "df = df[['Scenario','vulnerable']]\n",
    "\n",
    "logistic_data= df.merge(scenario_df, left_on=\"Scenario\", right_on=\"Scenario\")\n",
    "\n",
    "logistic_data.drop (['Scenario','Scenario'], axis=1, inplace=True)\n",
    "\n",
    "rainfall=pd.get_dummies(logistic_data['rainfall'], drop_first=False)\n",
    "rainfall = rainfall.drop(['Present'], axis = 1)\n",
    "SLR=pd.get_dummies(logistic_data['SLR'], drop_first=True)\n",
    "SLR.rename(columns={0.0: \"SLR_0.0\", 0.2795: \"SLR_0.2795\", 0.7835:\"SLR_0.7835\", 1.0355:\"SLR_0.7835\"}, inplace=True)\n",
    "roughness=pd.get_dummies(logistic_data['roughness'], drop_first=True)\n",
    "roughness.rename(columns={'100%': \"Rough_100\", '50%': \"Rough_50\", '75%':\"Rough_75\", '25%':\"Rough_25\"}, inplace=True)\n",
    "DPS_1_2=pd.get_dummies(logistic_data['DPS_1_2'], drop_first=False)\n",
    "DPS_1_2.rename(columns={0.0: \"DPS_1_2_0.0\", 0.5: \"DPS_1_2_0.5\", 1.0: \"DPS_1_2_1.0\"}, inplace=True)\n",
    "DPS_1_2 = DPS_1_2.drop(['DPS_1_2_1.0'], axis=1)\n",
    "DPS_All_Other=pd.get_dummies(logistic_data['DPS_All_Other'], drop_first=False)\n",
    "DPS_All_Other.rename(columns={0.0: \"DPS_All_Other_0.0\", 0.5: \"DPS_All_Other_0.5\", 1.0: \"DPS_All_Other_1.0\"}, inplace=True)\n",
    "DPS_All_Other = DPS_All_Other.drop(['DPS_All_Other_1.0'], axis=1)\n",
    "\n",
    "logistic_data.drop (['rainfall','SLR','roughness', 'DPS_1_2', 'DPS_All_Other'], axis=1, inplace=True)\n",
    "logistic_data=pd.concat([logistic_data,rainfall,roughness,DPS_1_2,DPS_All_Other], axis=1)\n",
    "\n",
    "labels = pd.DataFrame(logistic_data['vulnerable'])\n",
    "logistic_data=logistic_data.drop(['vulnerable'], axis=1)\n",
    "print(logistic_data.head())\n",
    "logistic_data=logistic_data.apply(pd.to_numeric)\n",
    "labels=labels.apply(pd.to_numeric)\n",
    "\n"
   ]
  },
  {
   "cell_type": "code",
   "execution_count": 121,
   "metadata": {},
   "outputs": [
    {
     "name": "stdout",
     "output_type": "stream",
     "text": [
      "              precision    recall  f1-score   support\n",
      "\n",
      "       False       0.60      1.00      0.75        12\n",
      "        True       1.00      0.94      0.97       138\n",
      "\n",
      "    accuracy                           0.95       150\n",
      "   macro avg       0.80      0.97      0.86       150\n",
      "weighted avg       0.97      0.95      0.95       150\n",
      "\n",
      "[0.51490005 2.84659224 2.84659224 1.88839927 0.22082395 0.22082395\n",
      " 1.88839927 0.20418548 0.20418548 1.7782119  1.7782119 ]\n",
      "                   importance\n",
      "Kunkel 2045 4.5      0.514900\n",
      "Kunkel 2075 4.5      2.846592\n",
      "Kunkel 2075 8.5      2.846592\n",
      "Rough_100            1.888399\n",
      "Rough_25             0.220824\n",
      "Rough_50             0.220824\n",
      "Rough_75             1.888399\n",
      "DPS_1_2_0.0          0.204185\n",
      "DPS_1_2_0.5          0.204185\n",
      "DPS_All_Other_0.0    1.778212\n",
      "DPS_All_Other_0.5    1.778212\n",
      "Index(['Kunkel 2045 4.5', 'Kunkel 2075 4.5', 'Kunkel 2075 8.5', 'Rough_100',\n",
      "       'Rough_25', 'Rough_50', 'Rough_75', 'DPS_1_2_0.0', 'DPS_1_2_0.5',\n",
      "       'DPS_All_Other_0.0', 'DPS_All_Other_0.5'],\n",
      "      dtype='object')\n"
     ]
    },
    {
     "name": "stderr",
     "output_type": "stream",
     "text": [
      "c:\\Users\\pkane\\.conda\\envs\\prj-lmr-scistack\\lib\\site-packages\\sklearn\\utils\\validation.py:1111: DataConversionWarning: A column-vector y was passed when a 1d array was expected. Please change the shape of y to (n_samples, ), for example using ravel().\n",
      "  y = column_or_1d(y, warn=True)\n"
     ]
    },
    {
     "data": {
      "text/plain": [
       "Text(0.5, 0, 'score')"
      ]
     },
     "execution_count": 121,
     "metadata": {},
     "output_type": "execute_result"
    },
    {
     "data": {
      "image/png": "[encoded data removed]",
      "text/plain": [
       "<Figure size 1000x1000 with 1 Axes>"
      ]
     },
     "metadata": {},
     "output_type": "display_data"
    }
   ],
   "source": [
    "X_train = logistic_data\n",
    "y_train = labels\n",
    "\n",
    "logmodel = LogisticRegression(class_weight='balanced')\n",
    "logmodel.fit(X_train, y_train)\n",
    "predictions_log = logmodel.predict (X_train)\n",
    "\n",
    "print(classification_report(y_train, predictions_log))\n",
    "\n",
    "importance = logmodel.coef_.flatten()\n",
    "#importance = importance.astype(str)\n",
    "print(importance)\n",
    "\n",
    "features=logistic_data.columns.astype(str)\n",
    "\n",
    "importance_df = pd.DataFrame (importance, columns = ['importance'], index=features)\n",
    "print (importance_df)\n",
    "importance_df['importance_abs']= importance_df['importance'].abs()\n",
    "importance_df=importance_df.sort_values('importance_abs',  ascending=[False])\n",
    "importance_df.to_csv('outputs/feature_importance_all_scenarios_Broadmoor.csv')\n",
    "\n",
    "print(logistic_data.columns)\n",
    "plt.rcParams[\"figure.figsize\"]= (10,10)\n",
    "plt.rcParams.update({'font.size': 6})\n",
    "plt.barh(logistic_data.columns.astype(str), importance, color = 'g')\n",
    "plt.title(\"summary of feature importance for neighborhood vulnerability\")\n",
    "plt.xlabel (\"score\")"
   ]
  },
  {
   "cell_type": "code",
   "execution_count": 122,
   "metadata": {},
   "outputs": [
    {
     "name": "stdout",
     "output_type": "stream",
     "text": [
      "[0.15077243]\n",
      "                   importance\n",
      "Kunkel 2045 4.5      1.673471\n",
      "Kunkel 2075 4.5     17.228969\n",
      "Kunkel 2075 8.5     17.228969\n",
      "Rough_100            6.608781\n",
      "Rough_25             1.247104\n",
      "Rough_50             1.247104\n",
      "Rough_75             6.608781\n",
      "DPS_1_2_0.0          1.226526\n",
      "DPS_1_2_0.5          1.226526\n",
      "DPS_All_Other_0.0    5.919263\n",
      "DPS_All_Other_0.5    5.919263\n"
     ]
    }
   ],
   "source": [
    "print(np.exp(logmodel.intercept_))\n",
    "importance_df = pd.DataFrame (np.exp(importance), columns = ['importance'], index=features)\n",
    "print (importance_df)"
   ]
  },
  {
   "cell_type": "code",
   "execution_count": 123,
   "metadata": {},
   "outputs": [
    {
     "name": "stdout",
     "output_type": "stream",
     "text": [
      "*************** Tree Summary ***************\n",
      "Classes:  [False  True]\n",
      "Tree Depth:  3\n",
      "No. of leaves:  4\n",
      "--------------------------------------------------------\n",
      "\n",
      "*************** Evaluation on Test Data ***************\n",
      "Accuracy Score:  0.92\n",
      "              precision    recall  f1-score   support\n",
      "\n",
      "       False       0.00      0.00      0.00        12\n",
      "        True       0.92      1.00      0.96       138\n",
      "\n",
      "    accuracy                           0.92       150\n",
      "   macro avg       0.46      0.50      0.48       150\n",
      "weighted avg       0.85      0.92      0.88       150\n",
      "\n",
      "--------------------------------------------------------\n",
      "\n",
      "*************** Evaluation on Training Data ***************\n",
      "Accuracy Score:  0.92\n",
      "              precision    recall  f1-score   support\n",
      "\n",
      "       False       0.00      0.00      0.00        12\n",
      "        True       0.92      1.00      0.96       138\n",
      "\n",
      "    accuracy                           0.92       150\n",
      "   macro avg       0.46      0.50      0.48       150\n",
      "weighted avg       0.85      0.92      0.88       150\n",
      "\n",
      "--------------------------------------------------------\n"
     ]
    },
    {
     "name": "stderr",
     "output_type": "stream",
     "text": [
      "c:\\Users\\pkane\\.conda\\envs\\prj-lmr-scistack\\lib\\site-packages\\sklearn\\metrics\\_classification.py:1334: UndefinedMetricWarning: Precision and F-score are ill-defined and being set to 0.0 in labels with no predicted samples. Use `zero_division` parameter to control this behavior.\n",
      "  _warn_prf(average, modifier, msg_start, len(result))\n",
      "c:\\Users\\pkane\\.conda\\envs\\prj-lmr-scistack\\lib\\site-packages\\sklearn\\metrics\\_classification.py:1334: UndefinedMetricWarning: Precision and F-score are ill-defined and being set to 0.0 in labels with no predicted samples. Use `zero_division` parameter to control this behavior.\n",
      "  _warn_prf(average, modifier, msg_start, len(result))\n",
      "c:\\Users\\pkane\\.conda\\envs\\prj-lmr-scistack\\lib\\site-packages\\sklearn\\metrics\\_classification.py:1334: UndefinedMetricWarning: Precision and F-score are ill-defined and being set to 0.0 in labels with no predicted samples. Use `zero_division` parameter to control this behavior.\n",
      "  _warn_prf(average, modifier, msg_start, len(result))\n",
      "c:\\Users\\pkane\\.conda\\envs\\prj-lmr-scistack\\lib\\site-packages\\sklearn\\metrics\\_classification.py:1334: UndefinedMetricWarning: Precision and F-score are ill-defined and being set to 0.0 in labels with no predicted samples. Use `zero_division` parameter to control this behavior.\n",
      "  _warn_prf(average, modifier, msg_start, len(result))\n",
      "c:\\Users\\pkane\\.conda\\envs\\prj-lmr-scistack\\lib\\site-packages\\sklearn\\metrics\\_classification.py:1334: UndefinedMetricWarning: Precision and F-score are ill-defined and being set to 0.0 in labels with no predicted samples. Use `zero_division` parameter to control this behavior.\n",
      "  _warn_prf(average, modifier, msg_start, len(result))\n",
      "c:\\Users\\pkane\\.conda\\envs\\prj-lmr-scistack\\lib\\site-packages\\sklearn\\metrics\\_classification.py:1334: UndefinedMetricWarning: Precision and F-score are ill-defined and being set to 0.0 in labels with no predicted samples. Use `zero_division` parameter to control this behavior.\n",
      "  _warn_prf(average, modifier, msg_start, len(result))\n"
     ]
    }
   ],
   "source": [
    "def fitting(X, y, criterion, splitter, mdepth, clweight, minleaf):\n",
    "\n",
    "    \n",
    "    #X_train, X_test, y_train, y_test = train_test_split(X, y, test_size=0.1, random_state=0)\n",
    "    X_train = X\n",
    "    X_test = X\n",
    "    y_train = y\n",
    "    y_test = y\n",
    "        # Fit the model\n",
    "    model = tree.DecisionTreeClassifier(criterion=criterion, \n",
    "                                            splitter=splitter, \n",
    "                                            max_depth=mdepth,\n",
    "                                            class_weight=clweight,\n",
    "                                            min_samples_leaf=minleaf, \n",
    "                                            random_state=0, \n",
    "                                    )\n",
    "    clf = model.fit(X_train, y_train)\n",
    "    pred_labels_tr = model.predict(X_train)\n",
    "    # Predict class labels on a test data\n",
    "    pred_labels_te = model.predict(X_test)\n",
    "\n",
    "        # Tree summary and model evaluation metrics\n",
    "    print('*************** Tree Summary ***************')\n",
    "    print('Classes: ', clf.classes_)\n",
    "    print('Tree Depth: ', clf.tree_.max_depth)\n",
    "    print('No. of leaves: ', clf.tree_.n_leaves)\n",
    "    #print('No. of features: ', clf.n_features_in_)\n",
    "    print('--------------------------------------------------------')\n",
    "    print(\"\")\n",
    "    \n",
    "    print('*************** Evaluation on Test Data ***************')\n",
    "    score_te = model.score(X_test, y_test)\n",
    "    print('Accuracy Score: ', score_te)\n",
    "    # Look at classification report to evaluate the model\n",
    "    print(classification_report(y_test, pred_labels_te))\n",
    "    print('--------------------------------------------------------')\n",
    "    print(\"\")\n",
    "    \n",
    "    print('*************** Evaluation on Training Data ***************')\n",
    "    score_tr = model.score(X_train, y_train)\n",
    "    print('Accuracy Score: ', score_tr)\n",
    "    # Look at classification report to evaluate the model\n",
    "    print(classification_report(y_train, pred_labels_tr))\n",
    "    print('--------------------------------------------------------')\n",
    "\n",
    "        # Use graphviz to plot the tree\n",
    "    # dot_data = tree.export_graphviz(clf, out_file=\"tree.dot\", \n",
    "    #                                 feature_names=X.columns, \n",
    "    #                                 class_names=[str(list(clf.classes_)[0]), str(list(clf.classes_)[1])],\n",
    "    #                                 filled=True, \n",
    "    #                                 rounded=True, \n",
    "    #                                 #rotate=True,\n",
    "    #                             ) \n",
    "    # graph = graphviz.Source(dot_data)\n",
    "    r = tree.export_text(clf, feature_names=X.columns.tolist(), show_weights=True)\n",
    "\n",
    "\n",
    "    return X_train, X_test, y_train, y_test, clf, r \n",
    "\n",
    "\n",
    "\n",
    "X_train, X_test, y_train, y_test, clf, r = fitting(logistic_data, labels,  'gini', 'best', \n",
    "                                                       mdepth=3, \n",
    "                                                       clweight=None,\n",
    "                                                       minleaf=5)\n",
    "\n",
    "# Plot the tree graph\n",
    "\n"
   ]
  },
  {
   "cell_type": "code",
   "execution_count": 124,
   "metadata": {},
   "outputs": [
    {
     "name": "stdout",
     "output_type": "stream",
     "text": [
      "|--- Kunkel 2075 8.5 <= 0.50\n",
      "|   |--- Kunkel 2075 4.5 <= 0.50\n",
      "|   |   |--- DPS_All_Other_0.5 <= 0.50\n",
      "|   |   |   |--- weights: [12.00, 28.00] class: True\n",
      "|   |   |--- DPS_All_Other_0.5 >  0.50\n",
      "|   |   |   |--- weights: [0.00, 10.00] class: True\n",
      "|   |--- Kunkel 2075 4.5 >  0.50\n",
      "|   |   |--- weights: [0.00, 50.00] class: True\n",
      "|--- Kunkel 2075 8.5 >  0.50\n",
      "|   |--- weights: [0.00, 50.00] class: True\n",
      "\n"
     ]
    }
   ],
   "source": [
    "print(r)"
   ]
  },
  {
   "cell_type": "code",
   "execution_count": 125,
   "metadata": {},
   "outputs": [
    {
     "name": "stdout",
     "output_type": "stream",
     "text": [
      "   rainfall  roughness  DPS_1_2  DPS_All_Other\n",
      "0         0          0      1.0            1.0\n",
      "1         1          0      1.0            1.0\n",
      "2         2          0      1.0            1.0\n",
      "3         2          0      1.0            1.0\n",
      "4         3          0      1.0            1.0\n"
     ]
    }
   ],
   "source": [
    "prim_data= df.merge(scenario_df, left_on=\"Scenario\", right_on=\"Scenario\")\n",
    "\n",
    "prim_data.drop (['Scenario','Scenario'], axis=1, inplace=True)\n",
    "\n",
    "prim_data['rainfall'].replace(['Present', 'Kunkel 2045 4.5', 'Kunkel 2075 4.5', 'Kunkel 2075 8.5'], [0, 1, 2, 3], inplace=True)\n",
    "prim_data['roughness'].replace(['0%', '25%', '50%', '75%', '100%'], [0, 25, 50, 75, 100], inplace=True)\n",
    "prim_data.drop(['SLR'], axis=1, inplace=True)\n",
    "\n",
    "labels = pd.DataFrame(prim_data['vulnerable'])\n",
    "prim_data.drop(['vulnerable'], axis=1, inplace=True)\n",
    "print(prim_data.head())\n",
    "prim_data=prim_data.apply(pd.to_numeric)\n",
    "labels=labels.apply(pd.to_numeric)"
   ]
  },
  {
   "cell_type": "code",
   "execution_count": 126,
   "metadata": {},
   "outputs": [
    {
     "name": "stdout",
     "output_type": "stream",
     "text": [
      "*************** Tree Summary ***************\n",
      "Classes:  [False  True]\n",
      "Tree Depth:  3\n",
      "No. of leaves:  6\n",
      "--------------------------------------------------------\n",
      "\n",
      "*************** Evaluation on Test Data ***************\n",
      "Accuracy Score:  0.9866666666666667\n",
      "              precision    recall  f1-score   support\n",
      "\n",
      "       False       0.86      1.00      0.92        12\n",
      "        True       1.00      0.99      0.99       138\n",
      "\n",
      "    accuracy                           0.99       150\n",
      "   macro avg       0.93      0.99      0.96       150\n",
      "weighted avg       0.99      0.99      0.99       150\n",
      "\n",
      "--------------------------------------------------------\n",
      "\n",
      "*************** Evaluation on Training Data ***************\n",
      "Accuracy Score:  0.9866666666666667\n",
      "              precision    recall  f1-score   support\n",
      "\n",
      "       False       0.86      1.00      0.92        12\n",
      "        True       1.00      0.99      0.99       138\n",
      "\n",
      "    accuracy                           0.99       150\n",
      "   macro avg       0.93      0.99      0.96       150\n",
      "weighted avg       0.99      0.99      0.99       150\n",
      "\n",
      "--------------------------------------------------------\n"
     ]
    }
   ],
   "source": [
    "X_train, X_test, y_train, y_test, clf, r = fitting(prim_data, labels,  'gini', 'best', \n",
    "                                                       mdepth=3, \n",
    "                                                       clweight=None,\n",
    "                                                       minleaf=5)"
   ]
  },
  {
   "cell_type": "code",
   "execution_count": 127,
   "metadata": {},
   "outputs": [
    {
     "name": "stdout",
     "output_type": "stream",
     "text": [
      "|--- rainfall <= 0.50\n",
      "|   |--- roughness <= 62.50\n",
      "|   |   |--- DPS_All_Other <= 0.75\n",
      "|   |   |   |--- weights: [0.00, 6.00] class: True\n",
      "|   |   |--- DPS_All_Other >  0.75\n",
      "|   |   |   |--- weights: [9.00, 0.00] class: False\n",
      "|   |--- roughness >  62.50\n",
      "|   |   |--- weights: [0.00, 10.00] class: True\n",
      "|--- rainfall >  0.50\n",
      "|   |--- rainfall <= 1.50\n",
      "|   |   |--- roughness <= 12.50\n",
      "|   |   |   |--- weights: [3.00, 2.00] class: False\n",
      "|   |   |--- roughness >  12.50\n",
      "|   |   |   |--- weights: [0.00, 20.00] class: True\n",
      "|   |--- rainfall >  1.50\n",
      "|   |   |--- weights: [0.00, 100.00] class: True\n",
      "\n"
     ]
    }
   ],
   "source": [
    "print(r)"
   ]
  },
  {
   "cell_type": "code",
   "execution_count": 128,
   "metadata": {},
   "outputs": [
    {
     "name": "stdout",
     "output_type": "stream",
     "text": [
      "Box 1 [Peeling Trajectory 2]\n",
      "    Stats\n",
      "        Coverage: 0.724638\n",
      "        Density:  1.000000\n",
      "        Mass:     0.666667\n",
      "        Res Dim:  1.000000\n",
      "        Mean:     1.000000\n",
      "    Limits\n",
      "                  min  max  qp values\n",
      "        rainfall  2.0  3.0   0.000239\n"
     ]
    },
    {
     "data": {
      "image/png": "[encoded data removed]",
      "text/plain": [
       "<Figure size 1000x1000 with 2 Axes>"
      ]
     },
     "metadata": {},
     "output_type": "display_data"
    },
    {
     "data": {
      "image/png": "[encoded data removed]",
      "text/plain": [
       "<Figure size 1200x600 with 6 Axes>"
      ]
     },
     "metadata": {},
     "output_type": "display_data"
    }
   ],
   "source": [
    "\n",
    "\n",
    "prim_alg = prim.Prim(prim_data, labels['vulnerable'], threshold=0, threshold_type=\">\")\n",
    "box = prim_alg.find_box()\n",
    "box_df=box.limits\n",
    "# print(df.head())\n",
    "box_df.to_csv('outputs/prim_box_BROADMOOR_allScenario_df.csv')\n",
    "box.show_tradeoff()\n",
    "box.show_details()\n",
    "print(box)\n",
    "plt.show()"
   ]
  },
  {
   "cell_type": "code",
   "execution_count": 129,
   "metadata": {},
   "outputs": [
    {
     "data": {
      "text/plain": [
       "0       True\n",
       "1       True\n",
       "2      False\n",
       "3      False\n",
       "4      False\n",
       "       ...  \n",
       "145    False\n",
       "146    False\n",
       "147    False\n",
       "148    False\n",
       "149    False\n",
       "Name: vulnerable, Length: 150, dtype: bool"
      ]
     },
     "execution_count": 129,
     "metadata": {},
     "output_type": "execute_result"
    }
   ],
   "source": [
    "~labels['vulnerable']"
   ]
  }
 ],
 "metadata": {
  "kernelspec": {
   "display_name": "prj-lmr-scistack",
   "language": "python",
   "name": "python3"
  },
  "language_info": {
   "codemirror_mode": {
    "name": "ipython",
    "version": 3
   },
   "file_extension": ".py",
   "mimetype": "text/x-python",
   "name": "python",
   "nbconvert_exporter": "python",
   "pygments_lexer": "ipython3",
   "version": "3.9.15"
  },
  "orig_nbformat": 4
 },
 "nbformat": 4,
 "nbformat_minor": 2
}
